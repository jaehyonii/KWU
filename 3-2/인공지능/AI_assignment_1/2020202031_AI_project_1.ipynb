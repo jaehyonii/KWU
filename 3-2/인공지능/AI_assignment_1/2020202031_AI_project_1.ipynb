{
 "cells": [
  {
   "cell_type": "markdown",
   "id": "ad491165-f0e1-4840-b549-44cd2af2379f",
   "metadata": {},
   "source": [
    "# PCA"
   ]
  },
  {
   "cell_type": "code",
   "execution_count": 1,
   "id": "47f573d8-54f6-4863-b299-bb9c30c0eec3",
   "metadata": {},
   "outputs": [],
   "source": [
    "import numpy as np\n",
    "import matplotlib.pyplot as plt\n",
    "from sklearn.datasets import fetch_lfw_people\n",
    "from sklearn.model_selection import train_test_split\n",
    "from sklearn.decomposition import PCA as lib_PCA"
   ]
  },
  {
   "cell_type": "code",
   "execution_count": 2,
   "id": "4f0a3e83-df9f-4490-b15d-37d63b02e49f",
   "metadata": {},
   "outputs": [],
   "source": [
    "class PCA:\n",
    "    def __init__(self, n_components, whiten, random_state=41, gram_iter=100):\n",
    "        self.n_components = n_components\n",
    "        self.whiten = whiten\n",
    "        self.gram_iter = gram_iter\n",
    "\n",
    "    def whitening(self, data):\n",
    "        centered_data = self.centering(data)\n",
    "        std_data = np.std(centered_data, axis=0)\n",
    "        whitened_data = centered_data / std_data\n",
    "\n",
    "        return whitened_data\n",
    "\n",
    "    def centering(self, data):\n",
    "        n_samples, n_features = data.shape\n",
    "\n",
    "        mean_data = np.mean(data, axis=0)\n",
    "        centered_data = data - mean_data\n",
    "\n",
    "        return centered_data\n",
    "   \n",
    "    def covariance(self, data):\n",
    "        centered_data = self.centering(data)\n",
    "        n_samples, n_features = centered_data.shape\n",
    "        cov_data = (centered_data.T @ centered_data) / (n_samples - 1)\n",
    "        \n",
    "        return cov_data\n",
    "     \n",
    "    def gram_schmidt(self, A):\n",
    "        # data의 차원 확인\n",
    "        n, m = A.shape  # n: 행 수 (벡터 수), m: 열 수 (차원 수)\n",
    "        Q = np.zeros((n, m))  # 직교화된 벡터를 저장할 행렬\n",
    "    \n",
    "        for i in range(m):  # 열 벡터를 기준으로 반복\n",
    "            # 현재 열 벡터를 복사\n",
    "            q = A[:, i]  # A의 i번째 열 벡터\n",
    "        \n",
    "            # 이전에 구한 직교 벡터에 대한 정사영을 뺌.\n",
    "            for j in range(i):\n",
    "                q -= np.dot(Q[:, j], A[:, i]) * Q[:, j]  # j번째 직교 벡터에 대한 정사영 제거\n",
    "\n",
    "            # 벡터 정규화\n",
    "            Q[:, i] = q / np.linalg.norm(q)  # 정규화하여 Q에 저장\n",
    "\n",
    "        R = Q.T @ A\n",
    "\n",
    "        return Q, R\n",
    "    \n",
    "    def eig(self, cov_data):\n",
    "        n, m = cov_data.shape  # n: 행 수 (벡터 수), m: 열 수 (차원 수)\n",
    "        A = cov_data.copy()\n",
    "\n",
    "        # 고유행렬 누적곱\n",
    "        eigenvectors = np.eye(n)\n",
    "        for _ in range(self.gram_iter):\n",
    "            Q, R = self.gram_schmidt(A)\n",
    "            # Q, R = np.linalg.qr(A)\n",
    "            A = R @ Q\n",
    "            eigenvectors = eigenvectors @ Q\n",
    "\n",
    "        eigenvalues = np.diagonal(A)\n",
    "        \n",
    "        return eigenvalues, eigenvectors\n",
    "    \n",
    "    def fit(self, data):\n",
    "        if self.whiten == True:\n",
    "            adj_data = self.whitening(data)\n",
    "        else:\n",
    "            adj_data = self.centering(data)\n",
    "\n",
    "        cov_data = self.covariance(adj_data)\n",
    "        eigvalues, eigvectors = self.eig(cov_data)\n",
    "    \n",
    "        # 대각 요소를 크기순으로 정렬한 인덱스 저장\n",
    "        sorted_indices = np.argsort(-eigvalues)  # 내림차순 정렬 (- 붙여서 내림차순)\n",
    "\n",
    "        # 고유값 정렬\n",
    "        eigvalues = eigvalues[sorted_indices]\n",
    "    \n",
    "        # 대각 요소 크기순으로 열 벡터 재정렬\n",
    "        eigvectors = eigvectors[:, sorted_indices]\n",
    "\n",
    "        pca_output = adj_data @ (eigvectors[:, :self.n_components])\n",
    "\n",
    "        return pca_output"
   ]
  },
  {
   "cell_type": "code",
   "execution_count": 3,
   "id": "6f0a3953-6b8e-4639-aaf1-ea0543adfe04",
   "metadata": {},
   "outputs": [
    {
     "name": "stdout",
     "output_type": "stream",
     "text": [
      "dataset keys        :  dict_keys(['data', 'images', 'target', 'target_names', 'DESCR'])\n",
      "dataset.images shape:  (1140, 37, 28)\n",
      "dataset.data shape  :  (1140, 1036)\n",
      "dataset.target shape:  (1140,)\n"
     ]
    }
   ],
   "source": [
    "people = fetch_lfw_people(min_faces_per_person=100, resize=0.1)\n",
    "image_shape = people.images[0].shape\n",
    "print(\"dataset keys        : \", people.keys())\n",
    "print(\"dataset.images shape: \", people.images.shape)\n",
    "print(\"dataset.data shape  : \", people.data.shape)\n",
    "print(\"dataset.target shape: \", people.target.shape)"
   ]
  },
  {
   "cell_type": "markdown",
   "id": "373e702f-74e1-4303-a1d2-404ad3858995",
   "metadata": {},
   "source": [
    "# centering 메서드 TEST"
   ]
  },
  {
   "cell_type": "code",
   "execution_count": 4,
   "id": "cf23d135-4269-45f8-ba51-197a74199f62",
   "metadata": {},
   "outputs": [
    {
     "name": "stdout",
     "output_type": "stream",
     "text": [
      "before centering:\n",
      "[[0.35555556 0.23660131 0.3385621  ... 0.43790853 0.41699347 0.627451  ]\n",
      " [0.18039216 0.26666668 0.47189543 ... 0.89673203 0.92026144 0.87973857]\n",
      " [0.14509805 0.15947713 0.32156864 ... 0.41045752 0.36601308 0.2379085 ]\n",
      " ...\n",
      " [0.83660126 0.77777773 0.7359478  ... 0.54771245 0.5647059  0.6039216 ]\n",
      " [0.41830066 0.530719   0.57385623 ... 0.74771243 0.87712413 0.7098039 ]\n",
      " [0.21176471 0.46013072 0.4379085  ... 0.0379085  0.09673203 0.12418302]]\n",
      "\n",
      "after centering:\n",
      "[[-0.00345391 -0.15751739 -0.11793375 ... -0.04740888 -0.03488389\n",
      "   0.21804026]\n",
      " [-0.17861731 -0.12745202  0.01539958 ...  0.41141462  0.4683841\n",
      "   0.47032782]\n",
      " [-0.21391143 -0.23464157 -0.13492721 ... -0.07485989 -0.08586428\n",
      "  -0.17150225]\n",
      " ...\n",
      " [ 0.47759178  0.38365903  0.27945194 ...  0.06239504  0.11282855\n",
      "   0.19451085]\n",
      " [ 0.05929118  0.13660029  0.11736038 ...  0.26239502  0.42524678\n",
      "   0.30039313]\n",
      " [-0.14724477  0.06601202 -0.01858735 ... -0.4474089  -0.35514534\n",
      "  -0.28522772]]\n",
      "\n",
      "sum of vectors:\n",
      "[-1.9983947e-04  1.2481213e-04 -2.8401613e-05 ... -4.0385127e-04\n",
      " -3.0881166e-04 -1.3691187e-04]\n"
     ]
    }
   ],
   "source": [
    "pca = PCA(200, False)\n",
    "data = people.data\n",
    "print(\"before centering:\")\n",
    "print(data)\n",
    "print()\n",
    "centered_data = pca.centering(people.data)\n",
    "print(\"after centering:\")\n",
    "print(centered_data)\n",
    "print()\n",
    "centered_data_sum = np.sum(centered_data, axis=0)\n",
    "print(\"sum of vectors:\")\n",
    "print(centered_data_sum)"
   ]
  },
  {
   "cell_type": "markdown",
   "id": "b842450e-47a8-4a62-96f6-a47a3d4948cf",
   "metadata": {},
   "source": [
    "# whitening 메서드 TEST"
   ]
  },
  {
   "cell_type": "code",
   "execution_count": 5,
   "id": "1e33f62e-eb36-477f-86e6-cf484404cab5",
   "metadata": {},
   "outputs": [
    {
     "name": "stdout",
     "output_type": "stream",
     "text": [
      "before whitening:\n",
      "[[0.35555556 0.23660131 0.3385621  ... 0.43790853 0.41699347 0.627451  ]\n",
      " [0.18039216 0.26666668 0.47189543 ... 0.89673203 0.92026144 0.87973857]\n",
      " [0.14509805 0.15947713 0.32156864 ... 0.41045752 0.36601308 0.2379085 ]\n",
      " ...\n",
      " [0.83660126 0.77777773 0.7359478  ... 0.54771245 0.5647059  0.6039216 ]\n",
      " [0.41830066 0.530719   0.57385623 ... 0.74771243 0.87712413 0.7098039 ]\n",
      " [0.21176471 0.46013072 0.4379085  ... 0.0379085  0.09673203 0.12418302]]\n",
      "\n",
      "after centering:\n",
      "[[-0.02082666 -0.9850557  -0.7460987  ... -0.1607969  -0.11549429\n",
      "   0.7235281 ]\n",
      " [-1.0770406  -0.79703796  0.09742422 ...  1.3953967   1.5507357\n",
      "   1.5606998 ]\n",
      " [-1.2898597  -1.4673619  -0.8536065  ... -0.25390258 -0.28428122\n",
      "  -0.5690999 ]\n",
      " ...\n",
      " [ 2.8798199   2.3992622   1.7679309  ...  0.21162552  0.3735551\n",
      "   0.6454499 ]\n",
      " [ 0.35751858  0.85424787  0.74247134 ...  0.8899663   1.4079158\n",
      "   0.99680156]\n",
      " [-0.8878679   0.4128149  -0.11759143 ... -1.5174787  -1.1758225\n",
      "  -0.94647783]]\n",
      "\n",
      "sum of vectors:\n",
      "[-0.00121415  0.00076899 -0.00015907 ... -0.0013454  -0.00101316\n",
      " -0.00046074]\n"
     ]
    }
   ],
   "source": [
    "pca = PCA(200, False)\n",
    "data = people.data\n",
    "print(\"before whitening:\")\n",
    "print(data)\n",
    "print()\n",
    "whitened_data = pca.whitening(data)\n",
    "print(\"after centering:\")\n",
    "print(whitened_data)\n",
    "print()\n",
    "whitened_data_sum = np.sum(whitened_data, axis=0)\n",
    "print(\"sum of vectors:\")\n",
    "print(whitened_data_sum)"
   ]
  },
  {
   "cell_type": "markdown",
   "id": "571d16d7-5a2d-4235-a93c-17cfe24ca0d0",
   "metadata": {},
   "source": [
    "# covariance 메서드 TEST"
   ]
  },
  {
   "cell_type": "code",
   "execution_count": 6,
   "id": "f5fd77e0-eb06-4147-b6d2-da1771ad59f5",
   "metadata": {},
   "outputs": [
    {
     "name": "stdout",
     "output_type": "stream",
     "text": [
      "PCA:\n",
      "[[ 0.02752733  0.02335889  0.01677731 ... -0.0016957  -0.00105826\n",
      "  -0.00114592]\n",
      " [ 0.02335889  0.02559271  0.02097222 ... -0.00104826 -0.00082488\n",
      "  -0.00131569]\n",
      " [ 0.01677731  0.02097222  0.0250072  ... -0.00031834 -0.00076869\n",
      "  -0.00196164]\n",
      " ...\n",
      " [-0.0016957  -0.00104826 -0.00031834 ...  0.08700515  0.07547966\n",
      "   0.05279473]\n",
      " [-0.00105826 -0.00082488 -0.00076869 ...  0.07547966  0.09130815\n",
      "   0.07754881]\n",
      " [-0.00114592 -0.00131569 -0.00196164 ...  0.05279473  0.07754881\n",
      "   0.09089578]]\n",
      "\n",
      "NUMPY: \n",
      "[[ 0.02752732  0.02335889  0.01677732 ... -0.0016957  -0.00105826\n",
      "  -0.00114592]\n",
      " [ 0.02335889  0.02559271  0.02097222 ... -0.00104826 -0.00082487\n",
      "  -0.00131569]\n",
      " [ 0.01677732  0.02097222  0.0250072  ... -0.00031834 -0.00076869\n",
      "  -0.00196164]\n",
      " ...\n",
      " [-0.0016957  -0.00104826 -0.00031834 ...  0.08700516  0.07547964\n",
      "   0.05279473]\n",
      " [-0.00105826 -0.00082487 -0.00076869 ...  0.07547964  0.09130815\n",
      "   0.07754879]\n",
      " [-0.00114592 -0.00131569 -0.00196164 ...  0.05279473  0.07754879\n",
      "   0.09089579]]\n"
     ]
    }
   ],
   "source": [
    "pca = PCA(200, False)\n",
    "data = people.data\n",
    "print(\"PCA:\")\n",
    "print(pca.covariance(data))\n",
    "print()\n",
    "print(\"NUMPY: \")\n",
    "print(np.cov(data, rowvar=False))"
   ]
  },
  {
   "cell_type": "markdown",
   "id": "e31da592-3a9f-4732-bbf8-2c7e050fdf69",
   "metadata": {},
   "source": [
    "# gram_schmidt 메서드 TEST"
   ]
  },
  {
   "cell_type": "code",
   "execution_count": 7,
   "id": "05f19ea4-d9c9-4160-97a9-5ab0045137d5",
   "metadata": {},
   "outputs": [
    {
     "name": "stdout",
     "output_type": "stream",
     "text": [
      "PCA\n",
      "Q:\n",
      " [[ 0.97753339  0.1720481   0.10439437  0.0138482   0.06113887]\n",
      " [-0.17131491  0.97808922  0.02037106  0.09368345 -0.06929004]\n",
      " [-0.1020733  -0.03106457  0.99230642 -0.05100842  0.03663518]\n",
      " [-0.00561088 -0.09353995  0.04571164  0.99329719  0.04989916]\n",
      " [-0.06803841  0.06345235 -0.04387759 -0.04231388  0.99379518]]\n",
      "R:\n",
      " [[ 1.07122883e+00  1.12558858e-17 -2.23392779e-17  4.27399188e-18\n",
      "  -9.44794220e-19]\n",
      " [ 2.44172212e-17  9.08625164e-01  9.08967993e-18  3.98729912e-17\n",
      "  -5.08121850e-17]\n",
      " [-1.90171613e-17  8.16724616e-18  1.06581827e+00 -2.02573374e-17\n",
      "   3.43961751e-17]\n",
      " [ 4.82707684e-18  4.50304903e-17 -2.23810211e-17  9.04077836e-01\n",
      "   1.95240862e-17]\n",
      " [ 4.36403032e-18 -2.82753252e-17  2.97022610e-17  1.07566129e-17\n",
      "   1.06725132e+00]]\n",
      "\n",
      "NUMPY\n",
      "Q:\n",
      " [[-0.97753339 -0.1720481  -0.10439437 -0.0138482   0.06113887]\n",
      " [ 0.17131491 -0.97808922 -0.02037106 -0.09368345 -0.06929004]\n",
      " [ 0.1020733   0.03106457 -0.99230642  0.05100842  0.03663518]\n",
      " [ 0.00561088  0.09353995 -0.04571164 -0.99329719  0.04989916]\n",
      " [ 0.06803841 -0.06345235  0.04387759  0.04231388  0.99379518]]\n",
      "R:\n",
      " [[-1.07122883e+00  0.00000000e+00  2.77555756e-17 -3.46944695e-18\n",
      "  -1.38777878e-17]\n",
      " [ 0.00000000e+00 -9.08625164e-01 -6.93889390e-18 -4.16333634e-17\n",
      "   1.38777878e-17]\n",
      " [ 0.00000000e+00  0.00000000e+00 -1.06581827e+00  2.08166817e-17\n",
      "  -2.08166817e-17]\n",
      " [ 0.00000000e+00  0.00000000e+00  0.00000000e+00 -9.04077836e-01\n",
      "  -2.08166817e-17]\n",
      " [ 0.00000000e+00  0.00000000e+00  0.00000000e+00  0.00000000e+00\n",
      "   1.06725132e+00]]\n",
      "\n"
     ]
    }
   ],
   "source": [
    "A = np.array([[ 1.04716195, -0.18351747, -0.10934386, -0.00601054, -0.07288471],\n",
    "                       [-0.18351747,  0.94827502,  0.00726028, -0.0830421 ,  0.08130832],\n",
    "                       [-0.10934386,  0.00726028,  1.08134424,  0.0548622 , -0.03538415],\n",
    "                       [-0.00601054, -0.0830421 ,  0.0548622 ,  0.91862992, -0.05356764],\n",
    "                       [-0.07288471,  0.08130832, -0.03538415, -0.05356764,  1.08806177]])\n",
    "\n",
    "\n",
    "pca = PCA(200, False)\n",
    "Q, R = pca.gram_schmidt(A)\n",
    "print(\"PCA\")\n",
    "print(\"Q:\\n\", Q)\n",
    "print(\"R:\\n\", R)\n",
    "print()\n",
    "\n",
    "print(\"NUMPY\")\n",
    "Q, R = np.linalg.qr(A)\n",
    "print(\"Q:\\n\", Q)\n",
    "print(\"R:\\n\", R)\n",
    "print()\n"
   ]
  },
  {
   "cell_type": "markdown",
   "id": "75fa2f16-edbe-44cf-a1c7-30dd1fa9012e",
   "metadata": {},
   "source": [
    "# eig 메서드 TEST"
   ]
  },
  {
   "cell_type": "code",
   "execution_count": 8,
   "id": "37ef2a6c-e33b-4aff-b195-ba024abbbbe0",
   "metadata": {},
   "outputs": [
    {
     "name": "stdout",
     "output_type": "stream",
     "text": [
      "pca\n",
      "val:  [1.04716195 0.91611348 0.92200251 0.90735179 0.902919  ]\n",
      "vec:  [[-0.61923945  0.57670058 -0.08190873  0.33057157  0.4098443 ]\n",
      " [-0.3577804   0.25306905  0.46540826 -0.74085479 -0.20610333]\n",
      " [ 0.39033199  0.0388916   0.69264682  0.09354104  0.5980124 ]\n",
      " [-0.50813577 -0.55097421  0.46251516  0.41248405 -0.23272749]\n",
      " [-0.27923944 -0.5461569  -0.288108   -0.40368751  0.61462847]]\n",
      "numpy\n",
      "val:  [0.77049726 0.89675976 0.97375554 1.16066394 1.28179641]\n",
      "vec:  [[ 0.5400817  -0.38979931  0.26310731 -0.21628385 -0.66359935]\n",
      " [ 0.73305079 -0.08112912 -0.42103024 -0.1159412   0.51511725]\n",
      " [ 0.10402753 -0.45917653  0.38619767  0.74810337  0.26368141]\n",
      " [ 0.39986526  0.79378087  0.28837288  0.32998821 -0.13404689]\n",
      " [ 0.01530818  0.0233111   0.72194219 -0.5207956   0.45474572]]\n"
     ]
    }
   ],
   "source": [
    "A = np.array([[ 1.04716195, -0.18351747, -0.10934386, -0.00601054, -0.07288471],\n",
    "                       [-0.18351747,  0.94827502,  0.00726028, -0.0830421 ,  0.08130832],\n",
    "                       [-0.10934386,  0.00726028,  1.08134424,  0.0548622 , -0.03538415],\n",
    "                       [-0.00601054, -0.0830421 ,  0.0548622 ,  0.91862992, -0.05356764],\n",
    "                       [-0.07288471,  0.08130832, -0.03538415, -0.05356764,  1.08806177]])\n",
    "\n",
    "pca = PCA(200, False)\n",
    "print(\"pca\")\n",
    "val, vec = pca.eig(A)\n",
    "print(\"val: \", val)\n",
    "print(\"vec: \", vec)\n",
    "\n",
    "print(\"numpy\")\n",
    "val, vec = np.linalg.eigh(A)\n",
    "print(\"val: \", val)\n",
    "print(\"vec: \", vec)"
   ]
  },
  {
   "cell_type": "markdown",
   "id": "cd5087c6-3053-4f8a-a9cd-834eebe91759",
   "metadata": {},
   "source": [
    "# PCA 분류"
   ]
  },
  {
   "cell_type": "code",
   "execution_count": null,
   "id": "48649fb4-ef02-4985-ac89-b5943a3828ff",
   "metadata": {},
   "outputs": [],
   "source": [
    "pca = PCA(200, False, gram_iter=1)\n",
    "n_component_data = pca.fit(people.data)\n",
    "pca_w = PCA(200, True)\n",
    "n_component_data_w = pca_w.fit(people.data)\n",
    "x_train, x_test, y_train, y_test = train_test_split(n_component_data, people.target, test_size=0.25, random_state=41)\n",
    "x_train_w, x_test_w, y_train_w, y_test_w = train_test_split(n_component_data_w, people.target, test_size=0.25, random_state=41)"
   ]
  },
  {
   "cell_type": "markdown",
   "id": "8238e849-2e04-4130-8ae4-392d536f0f1d",
   "metadata": {},
   "source": [
    "# KNN"
   ]
  },
  {
   "cell_type": "code",
   "execution_count": null,
   "id": "8dcaaeae-e6b1-4259-aa78-8a32af2e0f2e",
   "metadata": {},
   "outputs": [],
   "source": [
    "from sklearn.neighbors import KNeighborsClassifier as knc"
   ]
  },
  {
   "cell_type": "code",
   "execution_count": null,
   "id": "d8b3e4ab-a1a2-427c-bdf1-3a3e0bac2b8b",
   "metadata": {},
   "outputs": [],
   "source": [
    "knn = knc(n_neighbors=5)\n",
    "knn_w = knc(n_neighbors=5)"
   ]
  },
  {
   "cell_type": "code",
   "execution_count": null,
   "id": "5ad21c6f-07a7-4741-b1b0-ffc85b381357",
   "metadata": {},
   "outputs": [],
   "source": [
    "knn.fit(x_train, y_train)\n",
    "knn_w.fit(x_train_w, y_train_w)"
   ]
  },
  {
   "cell_type": "code",
   "execution_count": null,
   "id": "f5cf611e-1ea3-44d3-a849-80006c48e9c8",
   "metadata": {},
   "outputs": [],
   "source": [
    "y_pred = knn.predict(x_test)\n",
    "y_pred_w = knn_w.predict(x_test_w)"
   ]
  },
  {
   "cell_type": "markdown",
   "id": "6f152694-8e35-4736-9b2b-5236588f9dc4",
   "metadata": {},
   "source": [
    "# Results\n",
    "#### -F1 score를 각 채점 항목 별로 출력하면 됩니다"
   ]
  },
  {
   "cell_type": "code",
   "execution_count": null,
   "id": "558c4239-da40-4adf-b34f-32248d7ccd63",
   "metadata": {},
   "outputs": [],
   "source": [
    "from sklearn.metrics import f1_score"
   ]
  },
  {
   "cell_type": "code",
   "execution_count": null,
   "id": "fcf8bc07-c88d-4a5f-a0b9-94374a4c9c34",
   "metadata": {},
   "outputs": [],
   "source": [
    "print(f\"Naive PCA: {f1_score(y_test, y_pred, average='micro')}\\nWhitening PCA: {f1_score(y_test_w, y_pred_w, average='micro')}\")"
   ]
  },
  {
   "cell_type": "code",
   "execution_count": null,
   "id": "5b076b86-dc17-4bcd-8d1c-76e2a449cb70",
   "metadata": {},
   "outputs": [],
   "source": []
  }
 ],
 "metadata": {
  "kernelspec": {
   "display_name": "AI_prj1",
   "language": "python",
   "name": "ai_prj1"
  },
  "language_info": {
   "codemirror_mode": {
    "name": "ipython",
    "version": 3
   },
   "file_extension": ".py",
   "mimetype": "text/x-python",
   "name": "python",
   "nbconvert_exporter": "python",
   "pygments_lexer": "ipython3",
   "version": "3.12.5"
  }
 },
 "nbformat": 4,
 "nbformat_minor": 5
}
